{
 "cells": [
  {
   "cell_type": "code",
   "execution_count": null,
   "metadata": {},
   "outputs": [],
   "source": [
    "import tensorflow as tf\n",
    "import matplotlib.pyplot as plt"
   ]
  },
  {
   "cell_type": "code",
   "execution_count": 35,
   "metadata": {},
   "outputs": [],
   "source": [
    "(x_train,_),(x_test,_) = tf.keras.datasets.mnist.load_data()"
   ]
  },
  {
   "cell_type": "code",
   "execution_count": 36,
   "metadata": {},
   "outputs": [
    {
     "data": {
      "text/plain": [
       "((60000, 28, 28), (10000, 28, 28))"
      ]
     },
     "execution_count": 36,
     "metadata": {},
     "output_type": "execute_result"
    }
   ],
   "source": [
    "x_train.shape,x_test.shape"
   ]
  },
  {
   "cell_type": "code",
   "execution_count": 37,
   "metadata": {},
   "outputs": [],
   "source": [
    "#shape[0]即第一个数60000，-1即进行28*28的计算"
   ]
  },
  {
   "cell_type": "code",
   "execution_count": 38,
   "metadata": {},
   "outputs": [],
   "source": [
    "x_train = x_train.reshape(x_train.shape[0],-1)\n",
    "x_test = x_test.reshape(x_test.shape[0],-1)"
   ]
  },
  {
   "cell_type": "code",
   "execution_count": 39,
   "metadata": {},
   "outputs": [
    {
     "data": {
      "text/plain": [
       "((60000, 784), (10000, 784))"
      ]
     },
     "execution_count": 39,
     "metadata": {},
     "output_type": "execute_result"
    }
   ],
   "source": [
    "x_train.shape,x_test.shape"
   ]
  },
  {
   "cell_type": "markdown",
   "metadata": {},
   "source": [
    "tf.cast（）的作用是执行tensorflow中的张量数据类型转换\n",
    "cast(x,dtype,name=None)\n",
    "x:待转换的数据（张量）\n",
    "dytpe:目标数据类型第三个参数\n",
    "name：可选参数，定义操作的名称\n",
    "比如把int型转换为float型\n"
   ]
  },
  {
   "cell_type": "code",
   "execution_count": 40,
   "metadata": {},
   "outputs": [],
   "source": [
    "x_train = tf.cast(x_train,tf.float32)/255\n",
    "x_test = tf.cast(x_test,tf.float32)/255"
   ]
  },
  {
   "cell_type": "code",
   "execution_count": 41,
   "metadata": {},
   "outputs": [],
   "source": [
    "input_size = 784\n",
    "hidden_size = 32\n",
    "output_size = 784"
   ]
  },
  {
   "cell_type": "code",
   "execution_count": 42,
   "metadata": {},
   "outputs": [],
   "source": [
    "input = tf.keras.layers.Input(shape=(input_size,))\n",
    "\n",
    "#encode\n",
    "en = tf.keras.layers.Dense(hidden_size,activation='relu')(input)\n",
    "\n",
    "#decode\n",
    "de =  tf.keras.layers.Dense(output_size,activation='sigmoid')(en)\n",
    "\n",
    "model = tf.keras.Model(inputs=input,outputs=de)"
   ]
  },
  {
   "cell_type": "code",
   "execution_count": 43,
   "metadata": {},
   "outputs": [
    {
     "name": "stdout",
     "output_type": "stream",
     "text": [
      "Model: \"model_3\"\n",
      "_________________________________________________________________\n",
      "Layer (type)                 Output Shape              Param #   \n",
      "=================================================================\n",
      "input_4 (InputLayer)         [(None, 784)]             0         \n",
      "_________________________________________________________________\n",
      "dense_2 (Dense)              (None, 32)                25120     \n",
      "_________________________________________________________________\n",
      "dense_3 (Dense)              (None, 784)               25872     \n",
      "=================================================================\n",
      "Total params: 50,992\n",
      "Trainable params: 50,992\n",
      "Non-trainable params: 0\n",
      "_________________________________________________________________\n"
     ]
    }
   ],
   "source": [
    "model.summary()"
   ]
  },
  {
   "cell_type": "code",
   "execution_count": 44,
   "metadata": {},
   "outputs": [],
   "source": [
    "#可视化（安装了也执行不了，不知道为什么）"
   ]
  },
  {
   "cell_type": "code",
   "execution_count": 45,
   "metadata": {},
   "outputs": [
    {
     "name": "stdout",
     "output_type": "stream",
     "text": [
      "Failed to import pydot. You must install pydot and graphviz for `pydotprint` to work.\n"
     ]
    }
   ],
   "source": [
    "tf.keras.utils.plot_model(model,show_shapes=True)"
   ]
  },
  {
   "cell_type": "code",
   "execution_count": 46,
   "metadata": {},
   "outputs": [],
   "source": [
    "model.compile(optimizer='adam',\n",
    "              loss='mse'\n",
    ")"
   ]
  },
  {
   "cell_type": "code",
   "execution_count": 47,
   "metadata": {},
   "outputs": [
    {
     "name": "stdout",
     "output_type": "stream",
     "text": [
      "Train on 60000 samples, validate on 10000 samples\n",
      "Epoch 1/50\n",
      "60000/60000 [==============================] - 1s 14us/sample - loss: 0.0703 - val_loss: 0.0414\n",
      "Epoch 2/50\n",
      "60000/60000 [==============================] - 1s 10us/sample - loss: 0.0349 - val_loss: 0.0293\n",
      "Epoch 3/50\n",
      "60000/60000 [==============================] - 1s 9us/sample - loss: 0.0264 - val_loss: 0.0231\n",
      "Epoch 4/50\n",
      "60000/60000 [==============================] - 1s 9us/sample - loss: 0.0213 - val_loss: 0.0190\n",
      "Epoch 5/50\n",
      "60000/60000 [==============================] - 1s 10us/sample - loss: 0.0179 - val_loss: 0.0163\n",
      "Epoch 6/50\n",
      "60000/60000 [==============================] - 1s 10us/sample - loss: 0.0157 - val_loss: 0.0143\n",
      "Epoch 7/50\n",
      "60000/60000 [==============================] - 1s 11us/sample - loss: 0.0137 - val_loss: 0.0126\n",
      "Epoch 8/50\n",
      "60000/60000 [==============================] - 1s 10us/sample - loss: 0.0125 - val_loss: 0.0118\n",
      "Epoch 9/50\n",
      "60000/60000 [==============================] - 1s 10us/sample - loss: 0.0117 - val_loss: 0.0111\n",
      "Epoch 10/50\n",
      "60000/60000 [==============================] - 1s 10us/sample - loss: 0.0113 - val_loss: 0.0107\n",
      "Epoch 11/50\n",
      "60000/60000 [==============================] - 1s 10us/sample - loss: 0.0109 - val_loss: 0.0105\n",
      "Epoch 12/50\n",
      "60000/60000 [==============================] - 1s 10us/sample - loss: 0.0107 - val_loss: 0.0103\n",
      "Epoch 13/50\n",
      "60000/60000 [==============================] - 1s 10us/sample - loss: 0.0106 - val_loss: 0.0102\n",
      "Epoch 14/50\n",
      "60000/60000 [==============================] - 1s 10us/sample - loss: 0.0105 - val_loss: 0.0101\n",
      "Epoch 15/50\n",
      "60000/60000 [==============================] - 1s 10us/sample - loss: 0.0104 - val_loss: 0.0100\n",
      "Epoch 16/50\n",
      "60000/60000 [==============================] - 1s 10us/sample - loss: 0.0103 - val_loss: 0.0100\n",
      "Epoch 17/50\n",
      "60000/60000 [==============================] - 1s 10us/sample - loss: 0.0103 - val_loss: 0.0099\n",
      "Epoch 18/50\n",
      "60000/60000 [==============================] - 1s 10us/sample - loss: 0.0102 - val_loss: 0.0099\n",
      "Epoch 19/50\n",
      "60000/60000 [==============================] - 1s 10us/sample - loss: 0.0102 - val_loss: 0.0099\n",
      "Epoch 20/50\n",
      "60000/60000 [==============================] - 1s 10us/sample - loss: 0.0102 - val_loss: 0.0099\n",
      "Epoch 21/50\n",
      "60000/60000 [==============================] - 1s 10us/sample - loss: 0.0101 - val_loss: 0.0098\n",
      "Epoch 22/50\n",
      "60000/60000 [==============================] - 1s 10us/sample - loss: 0.0101 - val_loss: 0.0098\n",
      "Epoch 23/50\n",
      "60000/60000 [==============================] - 1s 10us/sample - loss: 0.0101 - val_loss: 0.0098\n",
      "Epoch 24/50\n",
      "60000/60000 [==============================] - 1s 10us/sample - loss: 0.0101 - val_loss: 0.0098\n",
      "Epoch 25/50\n",
      "60000/60000 [==============================] - 1s 10us/sample - loss: 0.0101 - val_loss: 0.0098\n",
      "Epoch 26/50\n",
      "60000/60000 [==============================] - 1s 10us/sample - loss: 0.0101 - val_loss: 0.0098\n",
      "Epoch 27/50\n",
      "60000/60000 [==============================] - 1s 10us/sample - loss: 0.0101 - val_loss: 0.0098\n",
      "Epoch 28/50\n",
      "60000/60000 [==============================] - 1s 10us/sample - loss: 0.0100 - val_loss: 0.0097\n",
      "Epoch 29/50\n",
      "60000/60000 [==============================] - 1s 10us/sample - loss: 0.0100 - val_loss: 0.0097\n",
      "Epoch 30/50\n",
      "60000/60000 [==============================] - 1s 10us/sample - loss: 0.0100 - val_loss: 0.0097\n",
      "Epoch 31/50\n",
      "60000/60000 [==============================] - 1s 10us/sample - loss: 0.0100 - val_loss: 0.0097\n",
      "Epoch 32/50\n",
      "60000/60000 [==============================] - 1s 10us/sample - loss: 0.0100 - val_loss: 0.0097\n",
      "Epoch 33/50\n",
      "60000/60000 [==============================] - 1s 10us/sample - loss: 0.0100 - val_loss: 0.0097\n",
      "Epoch 34/50\n",
      "60000/60000 [==============================] - 1s 10us/sample - loss: 0.0100 - val_loss: 0.0097\n",
      "Epoch 35/50\n",
      "60000/60000 [==============================] - 1s 10us/sample - loss: 0.0100 - val_loss: 0.0097\n",
      "Epoch 36/50\n",
      "60000/60000 [==============================] - 1s 10us/sample - loss: 0.0100 - val_loss: 0.0097\n",
      "Epoch 37/50\n",
      "60000/60000 [==============================] - 1s 10us/sample - loss: 0.0100 - val_loss: 0.0097\n",
      "Epoch 38/50\n",
      "60000/60000 [==============================] - 1s 10us/sample - loss: 0.0100 - val_loss: 0.0097\n",
      "Epoch 39/50\n",
      "60000/60000 [==============================] - 1s 10us/sample - loss: 0.0100 - val_loss: 0.0097\n",
      "Epoch 40/50\n",
      "60000/60000 [==============================] - 1s 10us/sample - loss: 0.0099 - val_loss: 0.0097\n",
      "Epoch 41/50\n",
      "60000/60000 [==============================] - 1s 10us/sample - loss: 0.0099 - val_loss: 0.0097\n",
      "Epoch 42/50\n",
      "60000/60000 [==============================] - 1s 10us/sample - loss: 0.0099 - val_loss: 0.0097\n",
      "Epoch 43/50\n",
      "60000/60000 [==============================] - 1s 10us/sample - loss: 0.0099 - val_loss: 0.0096\n",
      "Epoch 44/50\n",
      "60000/60000 [==============================] - 1s 10us/sample - loss: 0.0099 - val_loss: 0.0097\n",
      "Epoch 45/50\n",
      "60000/60000 [==============================] - 1s 10us/sample - loss: 0.0099 - val_loss: 0.0097\n",
      "Epoch 46/50\n",
      "60000/60000 [==============================] - 1s 10us/sample - loss: 0.0099 - val_loss: 0.0096\n",
      "Epoch 47/50\n",
      "60000/60000 [==============================] - 1s 10us/sample - loss: 0.0099 - val_loss: 0.0096\n",
      "Epoch 48/50\n",
      "60000/60000 [==============================] - 1s 10us/sample - loss: 0.0099 - val_loss: 0.0096\n",
      "Epoch 49/50\n",
      "60000/60000 [==============================] - 1s 10us/sample - loss: 0.0099 - val_loss: 0.0096\n",
      "Epoch 50/50\n",
      "60000/60000 [==============================] - 1s 10us/sample - loss: 0.0099 - val_loss: 0.0096\n"
     ]
    },
    {
     "data": {
      "text/plain": [
       "<tensorflow.python.keras.callbacks.History at 0x1ff4a19a3c8>"
      ]
     },
     "execution_count": 47,
     "metadata": {},
     "output_type": "execute_result"
    }
   ],
   "source": [
    "model.fit(x_train,x_train,\n",
    "         epochs=50,\n",
    "         batch_size=256,\n",
    "         shuffle=True,\n",
    "         validation_data=(x_test,x_test))"
   ]
  },
  {
   "cell_type": "code",
   "execution_count": 48,
   "metadata": {},
   "outputs": [],
   "source": [
    "#获取编码器"
   ]
  },
  {
   "cell_type": "code",
   "execution_count": 49,
   "metadata": {},
   "outputs": [],
   "source": [
    "encoed = tf.keras.Model(inputs=input,outputs=en)"
   ]
  },
  {
   "cell_type": "code",
   "execution_count": 50,
   "metadata": {},
   "outputs": [],
   "source": [
    "#获取解码器"
   ]
  },
  {
   "cell_type": "code",
   "execution_count": 59,
   "metadata": {},
   "outputs": [
    {
     "name": "stdout",
     "output_type": "stream",
     "text": [
      "Model: \"model_7\"\n",
      "_________________________________________________________________\n",
      "Layer (type)                 Output Shape              Param #   \n",
      "=================================================================\n",
      "input_7 (InputLayer)         [(None, 32)]              0         \n",
      "_________________________________________________________________\n",
      "dense_3 (Dense)              (None, 784)               25872     \n",
      "=================================================================\n",
      "Total params: 25,872\n",
      "Trainable params: 25,872\n",
      "Non-trainable params: 0\n",
      "_________________________________________________________________\n"
     ]
    }
   ],
   "source": [
    "input_de = tf.keras.layers.Input(shape=hidden_size)#解码器的输入\n",
    "output_de = model.layers[-1](input_de)   #解码器的输出就是上面建立模型的最后一层\n",
    "\n",
    "decode = tf.keras.Model(inputs=input_de,outputs=output_de)\n",
    "decode.summary()"
   ]
  },
  {
   "cell_type": "code",
   "execution_count": 52,
   "metadata": {},
   "outputs": [],
   "source": [
    "#进行测试"
   ]
  },
  {
   "cell_type": "code",
   "execution_count": 60,
   "metadata": {},
   "outputs": [],
   "source": [
    "encoed_test = encoed(x_test)"
   ]
  },
  {
   "cell_type": "code",
   "execution_count": 61,
   "metadata": {},
   "outputs": [
    {
     "data": {
      "text/plain": [
       "TensorShape([10000, 32])"
      ]
     },
     "execution_count": 61,
     "metadata": {},
     "output_type": "execute_result"
    }
   ],
   "source": [
    "encoed_test.shape"
   ]
  },
  {
   "cell_type": "code",
   "execution_count": 62,
   "metadata": {},
   "outputs": [
    {
     "data": {
      "text/plain": [
       "TensorShape([10000, 784])"
      ]
     },
     "execution_count": 62,
     "metadata": {},
     "output_type": "execute_result"
    }
   ],
   "source": [
    "x_test.shape"
   ]
  },
  {
   "cell_type": "code",
   "execution_count": 63,
   "metadata": {},
   "outputs": [],
   "source": [
    "decode_test = decode.predict(encoed_test)"
   ]
  },
  {
   "cell_type": "code",
   "execution_count": 65,
   "metadata": {},
   "outputs": [
    {
     "data": {
      "text/plain": [
       "(10000, 784)"
      ]
     },
     "execution_count": 65,
     "metadata": {},
     "output_type": "execute_result"
    }
   ],
   "source": [
    "decode_test.shape"
   ]
  },
  {
   "cell_type": "code",
   "execution_count": 68,
   "metadata": {},
   "outputs": [],
   "source": [
    "x_test = x_test.numpy()#前面的数据类型为tensor类型要转换成numpy类型不然绘图不了"
   ]
  },
  {
   "cell_type": "code",
   "execution_count": 69,
   "metadata": {},
   "outputs": [],
   "source": [
    " n = 10"
   ]
  },
  {
   "cell_type": "code",
   "execution_count": 74,
   "metadata": {},
   "outputs": [
    {
     "data": {
      "image/png": "[encoded data removed]",
      "text/plain": [
       "<Figure size 1440x288 with 18 Axes>"
      ]
     },
     "metadata": {
      "needs_background": "light"
     },
     "output_type": "display_data"
    }
   ],
   "source": [
    "plt.figure(figsize=(20,4))#创建画布以英寸为单位\n",
    "for i in range(1,n):       #for循环为左闭右开\n",
    "    ax = plt.subplot(2,n,i) #绘制子图2行 n列 i张\n",
    "    plt.imshow(x_test[i].reshape(28,28))#上面是784的张量要重构成图片\n",
    "    ax = plt.subplot(2,n, i + n)\n",
    "    plt.imshow(decode_test[i].reshape(28,28))"
   ]
  },
  {
   "cell_type": "code",
   "execution_count": null,
   "metadata": {},
   "outputs": [],
   "source": []
  }
 ],
 "metadata": {
  "kernelspec": {
   "display_name": "Python 3",
   "language": "python",
   "name": "python3"
  },
  "language_info": {
   "codemirror_mode": {
    "name": "ipython",
    "version": 3
   },
   "file_extension": ".py",
   "mimetype": "text/x-python",
   "name": "python",
   "nbconvert_exporter": "python",
   "pygments_lexer": "ipython3",
   "version": "3.6.12"
  }
 },
 "nbformat": 4,
 "nbformat_minor": 4
}
