{
 "cells": [
  {
   "cell_type": "code",
   "execution_count": 1,
   "metadata": {},
   "outputs": [],
   "source": [
    "import random"
   ]
  },
  {
   "cell_type": "code",
   "execution_count": 3,
   "metadata": {},
   "outputs": [],
   "source": [
    "def adj():\n",
    "    return random.choice('蓝色的 | 好看的 | 小小的'.split('|')).split()[0]"
   ]
  },
  {
   "cell_type": "code",
   "execution_count": 4,
   "metadata": {},
   "outputs": [],
   "source": [
    "def adj_star():\n",
    "    return random.choice([None,adj() + adj()])"
   ]
  },
  {
   "cell_type": "code",
   "execution_count": 19,
   "metadata": {},
   "outputs": [],
   "source": [
    "a=adj_star()"
   ]
  },
  {
   "cell_type": "code",
   "execution_count": 20,
   "metadata": {},
   "outputs": [
    {
     "name": "stdout",
     "output_type": "stream",
     "text": [
      "蓝色的小小的\n"
     ]
    }
   ],
   "source": [
    "print(a)"
   ]
  },
  {
   "cell_type": "code",
   "execution_count": 14,
   "metadata": {},
   "outputs": [
    {
     "data": {
      "text/plain": [
       "'好看的'"
      ]
     },
     "execution_count": 14,
     "metadata": {},
     "output_type": "execute_result"
    }
   ],
   "source": [
    "adj()"
   ]
  },
  {
   "cell_type": "code",
   "execution_count": 2,
   "metadata": {},
   "outputs": [
    {
     "name": "stdout",
     "output_type": "stream",
     "text": [
      "directoryScratch\n",
      "lilypondPath\n",
      "lilypondVersion\n",
      "lilypondFormat\n",
      "lilypondBackend\n",
      "musicxmlPath\n",
      "midiPath\n",
      "graphicsPath\n",
      "vectorPath\n",
      "pdfPath\n",
      "braillePath\n",
      "musescoreDirectPNGPath\n",
      "showFormat\n",
      "writeFormat\n",
      "ipythonShowFormat\n",
      "autoDownload\n",
      "debug\n",
      "warnings\n",
      "localCorpusSettings\n",
      "localCorporaSettings\n",
      "manualCoreCorpusPath\n",
      "localCorpusPath\n"
     ]
    }
   ],
   "source": [
    "\n",
    "from music21 import *\n",
    "env = environment.Environment()\n",
    "for key in env.keys():\n",
    "    print(key)\n"
   ]
  },
  {
   "cell_type": "code",
   "execution_count": 3,
   "metadata": {},
   "outputs": [
    {
     "name": "stdout",
     "output_type": "stream",
     "text": [
      "musicXML:   A:\\Anaconda\\envs\\kr\\Lib\\site-packages\\music21\\converter\\C:\\Program Files\\MuseScore 3.5\\MuseScore.exe\n",
      "musescore:  A:\\Anaconda\\envs\\kr\\Lib\\site-packages\\music21\\converter\\C:\\Program Files\\MuseScore 3.5\\MuseScore.exe\n"
     ]
    }
   ],
   "source": [
    "print('musicXML:  ', env['musicxmlPath'])\n",
    "print('musescore: ', env['musescoreDirectPNGPath'])\n"
   ]
  },
  {
   "cell_type": "code",
   "execution_count": 4,
   "metadata": {},
   "outputs": [],
   "source": [
    "environment.Environment()['musicxmlPath'] = r'A:\\MuceScore\\bin\\MuseScore3.exe'\n",
    "environment.Environment()['musescoreDirectPNGPath'] = r'A:\\MuceScore\\bin\\MuseScore3.exe'\n"
   ]
  },
  {
   "cell_type": "code",
   "execution_count": 5,
   "metadata": {},
   "outputs": [
    {
     "name": "stdout",
     "output_type": "stream",
     "text": [
      "musicXML:   A:\\MuceScore\\bin\\MuseScore3.exe\n",
      "musescore:  A:\\MuceScore\\bin\\MuseScore3.exe\n"
     ]
    }
   ],
   "source": [
    "print('musicXML:  ', env['musicxmlPath'])\n",
    "print('musescore: ', env['musescoreDirectPNGPath'])"
   ]
  },
  {
   "cell_type": "code",
   "execution_count": 8,
   "metadata": {},
   "outputs": [],
   "source": [
    "from music21 import *\n",
    "n = note.Note(\"D#3\")\n",
    "n.duration.type = 'half'\n",
    "n.show()\n"
   ]
  },
  {
   "cell_type": "code",
   "execution_count": 9,
   "metadata": {},
   "outputs": [],
   "source": [
    "from music21 import *\n",
    "s = converter.parse(r'D:\\工作目录\\lstm_generation_music\\output.mid')\n",
    "s.show()\n",
    "s.show('midi')\n"
   ]
  },
  {
   "cell_type": "code",
   "execution_count": null,
   "metadata": {},
   "outputs": [],
   "source": []
  }
 ],
 "metadata": {
  "kernelspec": {
   "display_name": "Python 3",
   "language": "python",
   "name": "python3"
  },
  "language_info": {
   "codemirror_mode": {
    "name": "ipython",
    "version": 3
   },
   "file_extension": ".py",
   "mimetype": "text/x-python",
   "name": "python",
   "nbconvert_exporter": "python",
   "pygments_lexer": "ipython3",
   "version": "3.6.12"
  }
 },
 "nbformat": 4,
 "nbformat_minor": 4
}
